{
 "cells": [
  {
   "cell_type": "markdown",
   "metadata": {},
   "source": [
    "## 2.1 연습문제"
   ]
  },
  {
   "cell_type": "code",
   "execution_count": 3,
   "metadata": {},
   "outputs": [
    {
     "name": "stdout",
     "output_type": "stream",
     "text": [
      "[20, 37, 58, 65, 72, 91]\n"
     ]
    }
   ],
   "source": [
    "L = [20, 37, 58, 72, 91]\n",
    "x = 65\n",
    "def solution(L, x):\n",
    "    answer=[]\n",
    "    length=len(L)\n",
    "    if(L[0]>x):\n",
    "        L.insert(0, x)\n",
    "    if(L[length-1]<x):\n",
    "        L.insert(length-1, x)\n",
    "    for i in range(length):\n",
    "        max=L[0]\n",
    "        if(L[i]<x) and (L[i+1]>x):\n",
    "            L.insert(i+1, x)\n",
    "    answer=L\n",
    "    return answer\n",
    "print(solution(L, x))"
   ]
  },
  {
   "cell_type": "markdown",
   "metadata": {},
   "source": [
    "## 2.2 연습문제"
   ]
  },
  {
   "cell_type": "code",
   "execution_count": 13,
   "metadata": {},
   "outputs": [
    {
     "name": "stdout",
     "output_type": "stream",
     "text": [
      "[1, 3]\n"
     ]
    }
   ],
   "source": [
    "L = [64, 72, 83, 72, 54]\n",
    "x = 72\n",
    "def solution(L, x):\n",
    "    answer=[]\n",
    "    if x not in L:\n",
    "        answer.append(-1)\n",
    "    else:\n",
    "        for i in range(len(L)):\n",
    "            if x==L[i]:\n",
    "                answer.append(i)\n",
    "    return answer\n",
    "print(solution(L, x))"
   ]
  },
  {
   "cell_type": "markdown",
   "metadata": {},
   "source": [
    "## 3 연습문제"
   ]
  },
  {
   "cell_type": "code",
   "execution_count": null,
   "metadata": {},
   "outputs": [],
   "source": [
    "L = [64, 72, 83, 72, 54]\n",
    "x = 72\n",
    "def solution(L, x):\n",
    "    if x in L:\n",
    "        return L.index(x)\n",
    "    else:\n",
    "        return -1\n",
    "print(solution(L, x))"
   ]
  },
  {
   "cell_type": "markdown",
   "metadata": {},
   "source": [
    "## 4 연습문제"
   ]
  },
  {
   "cell_type": "code",
   "execution_count": 16,
   "metadata": {},
   "outputs": [
    {
     "name": "stdout",
     "output_type": "stream",
     "text": [
      "55\n"
     ]
    }
   ],
   "source": [
    "def solution(x):\n",
    "    answer = 0\n",
    "    if x==1:\n",
    "        return 1\n",
    "    elif x==0:\n",
    "        return 0\n",
    "    else:\n",
    "        return solution(x-1)+solution(x-2)\n",
    "print(solution(10))"
   ]
  },
  {
   "cell_type": "markdown",
   "metadata": {},
   "source": [
    "## 5 연습문제"
   ]
  },
  {
   "cell_type": "code",
   "execution_count": 1,
   "metadata": {},
   "outputs": [
    {
     "name": "stdout",
     "output_type": "stream",
     "text": [
      "3\n"
     ]
    }
   ],
   "source": [
    "L = [2, 3, 5, 6, 9, 11, 15]\n",
    "x = 6\n",
    "l = 0\n",
    "u = 6\n",
    "def solution(L, x, l, u):\n",
    "    if x not in L:\n",
    "        return -1\n",
    "    mid = (l + u) // 2\n",
    "    if x == L[mid]:\n",
    "        return mid\n",
    "    elif x < L[mid]:\n",
    "        return  solution(L, x, l, u/2)  \n",
    "    else:\n",
    "        return solution(L, x, l/2, u)\n",
    "print(solution(L, x, l, u))"
   ]
  },
  {
   "cell_type": "markdown",
   "metadata": {},
   "source": [
    "## 5 연습문제(효율성 더 좋은 버전)"
   ]
  },
  {
   "cell_type": "code",
   "execution_count": 2,
   "metadata": {},
   "outputs": [
    {
     "name": "stdout",
     "output_type": "stream",
     "text": [
      "3\n"
     ]
    }
   ],
   "source": [
    "L = [2, 3, 5, 6, 9, 11, 15]\n",
    "x = 6\n",
    "l = 0\n",
    "u = 6\n",
    "def solution(L, x, l, u):\n",
    "    if l>u:\n",
    "        return -1\n",
    "    mid = (l + u) // 2\n",
    "    if x == L[mid]:\n",
    "        return mid\n",
    "    elif x < L[mid]:\n",
    "        return solution(L, x, l, mid-1) \n",
    "    else:\n",
    "        return solution(L, x, mid+1, u)\n",
    "print(solution(L, x, l, u))"
   ]
  },
  {
   "cell_type": "code",
   "execution_count": null,
   "metadata": {},
   "outputs": [],
   "source": []
  }
 ],
 "metadata": {
  "kernelspec": {
   "display_name": "Python 3",
   "language": "python",
   "name": "python3"
  },
  "language_info": {
   "codemirror_mode": {
    "name": "ipython",
    "version": 3
   },
   "file_extension": ".py",
   "mimetype": "text/x-python",
   "name": "python",
   "nbconvert_exporter": "python",
   "pygments_lexer": "ipython3",
   "version": "3.7.1"
  }
 },
 "nbformat": 4,
 "nbformat_minor": 2
}
